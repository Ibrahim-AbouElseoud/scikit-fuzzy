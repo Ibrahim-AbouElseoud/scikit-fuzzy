{
 "metadata": {
  "name": "logo"
 },
 "nbformat": 3,
 "nbformat_minor": 0,
 "worksheets": [
  {
   "cells": [
    {
     "cell_type": "code",
     "collapsed": false,
     "input": [
      "import numpy as np\n",
      "import skfuzzy as fuzz\n",
      "import matplotlib.pyplot as plt\n",
      "kwargs = {'lw': 20, 'solid_capstyle': 'round'}"
     ],
     "language": "python",
     "metadata": {},
     "outputs": [],
     "prompt_number": 84
    },
    {
     "cell_type": "code",
     "collapsed": false,
     "input": [
      "# Generate membership functions corresponding to S and F in logo\n",
      "x_sf = np.arange(0, 3.1, 0.1) - 0.1\n",
      "x_f2 = np.arange(0, 2.7, 0.1) - 0.1\n",
      "x_i = np.arange(3.6, 4.05, 0.1)\n",
      "x_u1 = np.arange(3.0, 3.45, 0.1)\n",
      "x_u2 = np.arange(3.0, 4.05, 0.1)\n",
      "x_u3 = np.arange(4.0, 4.45, 0.1)\n",
      "x_k1 = np.arange(4.5, 5.55, 0.1)\n",
      "\n",
      "s_mf = fuzz.trapmf(x_sf, [1, 2, 3, 3]) * (2. / 3) + 0.4\n",
      "f_mf1 = fuzz.trapmf(x_sf, [1, 2, 3, 3]) * (2. / 3)\n",
      "f_mf2 = fuzz.trapmf(x_f2, [1, 1.6, 2.6, 2.6]) * 0.4\n",
      "i_mf = (x_i - 3.6) * (2. / 3) + 0.4\n",
      "u1_mf = (x_u1 - 3) * (2. / 3)\n",
      "u2_mf = np.zeros_like(x_u2)\n",
      "u3_mf = (x_u3 - 4) * (2. / 3)\n",
      "k1_mf = (x_k1 - 4.5) * (2. / 3) + 0.4\n",
      "\n",
      "bot = 0.4 * 2 / 3"
     ],
     "language": "python",
     "metadata": {},
     "outputs": [],
     "prompt_number": 183
    },
    {
     "cell_type": "code",
     "collapsed": false,
     "input": [
      "# Plot various membership functions, which together make scikit-fuzzy logo\n",
      "s = plt.plot(x_sf, s_mf, 'k', **kwargs)\n",
      "f1 = plt.plot(x_sf + 0.4, f_mf1, 'k', **kwargs)\n",
      "f2 = plt.plot(x_f2 + 0.4, f_mf2, 'k', **kwargs)\n",
      "i = plt.plot(x_i, i_mf, 'k', **kwargs)\n",
      "u1 = plt.plot(x_u1, u1_mf, 'k', **kwargs)\n",
      "u2 = plt.plot(x_u2, u2_mf, 'k', **kwargs)\n",
      "u3 = plt.plot(x_u3, u3_mf, 'k', **kwargs)\n",
      "k1 = plt.plot(x_k1, k1_mf, 'k', **kwargs)\n",
      "\n",
      "# At this point I gave up on generating \"true\" membership functions,\n",
      "# opting instead to just plot lines.\n",
      "k2 = plt.plot([4.8, 5.5], [0.525, 0.4], 'k', **kwargs)\n",
      "k3 = plt.plot([4.8, 5.9], [0.525, 2. / 3], 'k', **kwargs)\n",
      "i2 = plt.plot([6.2, 6.6], [0.4, 2. / 3], 'k', **kwargs)\n",
      "t1 = plt.plot([7, 7.8], [0.4, 0.4 + 2. / 3 - 4 / 30.], 'k', **kwargs)\n",
      "t2 = plt.plot([7.1, 8.1], [0.8, 0.8], 'k', **kwargs)\n",
      "z1a = plt.plot([5.1, 5.5], [bot, bot], 'k', **kwargs)\n",
      "z1b = plt.plot([5.5, 5.9], [bot, 0], 'k', **kwargs)\n",
      "z1c = plt.plot([5.9, 6.3], [0, 0], 'k', **kwargs)\n",
      "z2a = plt.plot([6.1, 6.5], [bot, bot], 'k', **kwargs)\n",
      "z2b = plt.plot([6.5, 6.9], [bot, 0], 'k', **kwargs)\n",
      "z2c = plt.plot([6.9, 7.3], [0, 0], 'k', **kwargs)\n",
      "y1 = plt.plot([8, 8.4], [0, bot], 'k', **kwargs)\n",
      "y2 = plt.plot([8, 9], [0, 0], 'k', **kwargs)\n",
      "y3 = plt.plot([8.6, 9.4], [-bot, bot], 'k', **kwargs)\n",
      "y4 = plt.plot([7.6, 8.6], [-bot, -bot], 'k', **kwargs)\n",
      "plt.ylim(-0.5, 1.2)\n",
      "plt.xlim(-0.5, 10)\n",
      "plt.axis('off')\n",
      "plt.show()"
     ],
     "language": "python",
     "metadata": {},
     "outputs": [],
     "prompt_number": 191
    },
    {
     "cell_type": "code",
     "collapsed": false,
     "input": [],
     "language": "python",
     "metadata": {},
     "outputs": []
    }
   ],
   "metadata": {}
  }
 ]
}