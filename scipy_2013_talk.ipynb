{
 "metadata": {
  "name": "scipy_2013_talk"
 },
 "nbformat": 3,
 "nbformat_minor": 0,
 "worksheets": [
  {
   "cells": [
    {
     "cell_type": "code",
     "collapsed": false,
     "input": [
      "%pylab inline"
     ],
     "language": "python",
     "metadata": {},
     "outputs": []
    },
    {
     "cell_type": "heading",
     "level": 1,
     "metadata": {},
     "source": [
      "Scikit-Fuzzy Demo"
     ]
    },
    {
     "cell_type": "markdown",
     "metadata": {},
     "source": [
      "##Procedure\n",
      "In this demo we're going to translate a conceptual example, predicting expected customers in an ice cream shop given a particular outside temperature. This example modified from [Fuzzy Logic in Decision Making and Signal Processing](http://enpub.fulton.asu.edu/powerzone/fuzzylogic/chapter%205/frame5.htm) by Pant and Holbert.\n",
      "\n",
      "Recall fuzzy systems consist of:\n",
      "\n",
      "* **if** premise (antecedent) **then** conclusion (consequent) "
     ]
    },
    {
     "cell_type": "markdown",
     "metadata": {},
     "source": [
      "Consider an ice cream parlor, with a non-computer literate proprietor. He tells you:\n",
      "\n",
      "* **if** temperature is hot **then** ice cream parlor is crowded.\n",
      "* **if** temperature is moderate **then** ice cream parlor is busy.\n",
      "* **if** temperature is cool **then** ice cream parlor is quiet.\n",
      "\n",
      "For this system we have two universe variables: `temp` and `n_customers`.\n",
      "\n",
      "Note how pythonic, simple, and intuitive this system is!"
     ]
    },
    {
     "cell_type": "code",
     "collapsed": false,
     "input": [
      "# Import NumPy and scikit-fuzzy\n",
      "import numpy as np\n",
      "import skfuzzy as fuzz"
     ],
     "language": "python",
     "metadata": {},
     "outputs": []
    },
    {
     "cell_type": "markdown",
     "metadata": {},
     "source": [
      "##Describe Fuzzy System\n",
      "\n",
      "First create fuzzy membership functions which represent *degree of truth* related to a continuous variable variable."
     ]
    },
    {
     "cell_type": "code",
     "collapsed": false,
     "input": [
      "# Generate universe functions\n",
      "temp = np.arange(30, 101, 1)\n",
      "customers = np.arange(0, 36, 1)\n",
      "\n",
      "# Membership functions for heat\n",
      "t_hot = fuzz.trimf(temp, [65, 100, 100])\n",
      "t_moderate = fuzz.trimf(temp, [30, 65, 100])\n",
      "t_cool = fuzz.trapmf(temp, [20, 20, 30, 65])\n",
      "\n",
      "# Membership functions for customers\n",
      "c_crowded = fuzz.trimf(customers, [24, 35, 35])\n",
      "c_busy = fuzz.trimf(customers, [0, 24, 35])\n",
      "c_quiet = fuzz.trimf(customers, [0, 0, 24])"
     ],
     "language": "python",
     "metadata": {},
     "outputs": []
    },
    {
     "cell_type": "markdown",
     "metadata": {},
     "source": [
      "**Note**: In scikit-fuzzy, all membership functions are raw NumPy arrays. This means in many functions you must manually specify both the universe variable (here `temp`) and the membership function. The universe variable and membership function arrays must have identical `shape`."
     ]
    },
    {
     "cell_type": "markdown",
     "metadata": {},
     "source": [
      "##Visualize Fuzzy System"
     ]
    },
    {
     "cell_type": "code",
     "collapsed": false,
     "input": [
      "# Visualize membership functions for temperature\n",
      "fig, ax = plt.subplots()\n",
      "\n",
      "ax.plot(temp, t_hot, 'r', temp, t_moderate, 'm', temp, t_cool, 'b')\n",
      "ax.set_ylabel('Fuzzy membership')\n",
      "ax.set_xlabel('Temp (Farenheit)')\n",
      "ax.set_ylim(-0.05, 1.05);"
     ],
     "language": "python",
     "metadata": {},
     "outputs": []
    },
    {
     "cell_type": "code",
     "collapsed": false,
     "input": [
      "# Visualize membership functions for customers\n",
      "fig, ax = plt.subplots()\n",
      "\n",
      "ax.plot(customers, c_quiet, 'c', customers, c_busy, 'm', customers, c_crowded, 'ForestGreen')\n",
      "ax.set_ylabel('Fuzzy membership')\n",
      "ax.set_xlabel('Number of Customers')\n",
      "ax.set_ylim(-0.05, 1.05);"
     ],
     "language": "python",
     "metadata": {},
     "outputs": []
    },
    {
     "cell_type": "markdown",
     "metadata": {},
     "source": [
      "Next, we use fuzzy implication via the Product (Larsen) relation. This is done separately for each statement in the fuzzy system, so we'll have 3 separate fuzzy relation matrices."
     ]
    },
    {
     "cell_type": "code",
     "collapsed": false,
     "input": [
      "# Fuzzy relation\n",
      "R1 = fuzz.relation_product(t_hot, c_crowded)\n",
      "R2 = fuzz.relation_product(t_moderate, c_busy)\n",
      "R3 = fuzz.relation_product(t_cool, c_quiet)\n",
      "\n",
      "# Combine fuzzy relations into aggregate relation\n",
      "R_combined = np.fmax(R1, np.fmax(R2, R3))\n",
      "\n",
      "# Visualize \n",
      "plt.imshow(R_combined)\n",
      "cbar = plt.colorbar()\n",
      "cbar.set_label('Fuzzy membership')\n",
      "plt.yticks([i * 10 for i in range(8)], [str(i * 10 + 30) for i in range(8)]);\n",
      "plt.ylabel('Temp')\n",
      "plt.xlabel('Customers');"
     ],
     "language": "python",
     "metadata": {},
     "outputs": []
    },
    {
     "cell_type": "markdown",
     "metadata": {},
     "source": [
      "###Defuzzification\n",
      "\n",
      "The fuzzy relation matrices show how the system responds for all temperatures and all customers. But we need to make a specific prediction for a specific temperature. We need to return from the fuzzy domain back to crisp logic. **This is known as defuzzification**. \n",
      "\n",
      "Let's say it is 75 degrees outside (wishing, I know). How many customers should the ice cream parlor expect?"
     ]
    },
    {
     "cell_type": "code",
     "collapsed": false,
     "input": [
      "# Defuzzify to generate crisp solution\n",
      "predicted_customers = np.zeros_like(temp)\n",
      "\n",
      "for i in range(len(predicted_customers)):\n",
      "    predicted_customers[i] = fuzz.defuzz(customers, R_combined[i, :], 'centroid')"
     ],
     "language": "python",
     "metadata": {},
     "outputs": []
    },
    {
     "cell_type": "markdown",
     "metadata": {},
     "source": [
      "##Results"
     ]
    },
    {
     "cell_type": "code",
     "collapsed": false,
     "input": [
      "# Number of customers on our hypothetical 75 degree day\n",
      "plt.plot(temp, predicted_customers, 'k')\n",
      "plt.vlines(75, 5, predicted_customers[temp == 75], color='DarkOrange', linestyle='dashed', lw=2)\n",
      "plt.hlines(predicted_customers[temp == 75], 30, 75, color='DarkOrange', linestyle='dashed', lw=2)\n",
      "plt.xlabel('Temperature')\n",
      "plt.ylabel('Customers');"
     ],
     "language": "python",
     "metadata": {},
     "outputs": []
    },
    {
     "cell_type": "markdown",
     "metadata": {},
     "source": [
      "Look at this beautiful, nonlinear, intuitive response! Easy to build, easy to tweak, and we retained intuition throughout."
     ]
    },
    {
     "cell_type": "code",
     "collapsed": false,
     "input": [
      "# Number of customers on our real Texas day: 96 degrees\n",
      "plt.plot(temp, predicted_customers, 'k')\n",
      "plt.vlines(96, 5, predicted_customers[temp == 96], color='DarkOrange', linestyle='dashed', lw=2)\n",
      "plt.hlines(predicted_customers[temp == 96], 30, 96, color='DarkOrange', linestyle='dashed', lw=2)\n",
      "plt.xlabel('Temperature')\n",
      "plt.ylabel('Customers');"
     ],
     "language": "python",
     "metadata": {},
     "outputs": []
    },
    {
     "cell_type": "code",
     "collapsed": false,
     "input": [],
     "language": "python",
     "metadata": {},
     "outputs": []
    }
   ],
   "metadata": {}
  }
 ]
}